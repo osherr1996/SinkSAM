{
 "cells": [
  {
   "cell_type": "markdown",
   "id": "2fe833f6-bd26-4244-bf34-db93eb76dbb9",
   "metadata": {},
   "source": [
    "<h2>This notebook walks you through the second stage in SinkSAM framework, computation of closed depressions using Arcpy library.</h2>"
   ]
  },
  {
   "cell_type": "code",
   "execution_count": null,
   "id": "e9f567e7-0903-4c91-8ac7-a69651f3289c",
   "metadata": {},
   "outputs": [],
   "source": [
    "import os ##Fill-sinks\n",
    "import arcpy\n",
    "\n",
    "# Function to apply Fill and save filled rasters\n",
    "def apply_fill_and_save(input_folder, output_folder):\n",
    "    if not os.path.exists(output_folder):\n",
    "        os.makedirs(output_folder)\n",
    "\n",
    "    for filename in os.listdir(input_folder):\n",
    "        if filename.endswith(\".tif\") or filename.endswith(\".tiff\"):\n",
    "            input_tiff = os.path.join(input_folder, filename)\n",
    "            base_name = os.path.splitext(filename)[0]\n",
    "\n",
    "            # Apply the Fill function with a Z limit of 2\n",
    "            filled_raster = arcpy.sa.Fill(input_tiff)\n",
    "            filled_raster_path = os.path.join(output_folder, f\"{base_name}_filled.tif\")\n",
    "            filled_raster.save(filled_raster_path)\n",
    "\n",
    "input_folder = \"C:/Users/osher/Downloads/asaf_for_paper/RawCRS/\"\n",
    "output_folder = \"C:/Users/osher/Downloads/asaf_for_paper/FilledRasters_2/\"\n",
    "\n",
    "apply_fill_and_save(input_folder, output_folder)\n",
    "\n",
    "print(\"Step 1: Filled rasters saved.\")\n"
   ]
  },
  {
   "cell_type": "code",
   "execution_count": null,
   "id": "f3539933-1c2d-412e-85f9-4d0fad83bcbb",
   "metadata": {},
   "outputs": [],
   "source": [
    "import os ##Subtraction\n",
    "import arcpy\n",
    "\n",
    "# Function to subtract original georeferenced rasters from filled rasters and save results\n",
    "def subtract_and_save(georef_folder, filled_folder, output_folder):\n",
    "    if not os.path.exists(output_folder):\n",
    "        os.makedirs(output_folder)\n",
    "\n",
    "    for filename in os.listdir(georef_folder):\n",
    "        if filename.endswith(\".tif\") or filename.endswith(\".tiff\"):\n",
    "            base_name = os.path.splitext(filename)[0]\n",
    "            georef_raster = os.path.join(georef_folder, filename)\n",
    "            filled_raster = os.path.join(filled_folder, f\"{base_name}_filled.tif\")\n",
    "\n",
    "            # Subtract the original georeferenced raster from the filled raster\n",
    "            subtracted_raster = arcpy.sa.Minus(filled_raster, georef_raster)\n",
    "            subtracted_raster_path = os.path.join(output_folder, f\"{base_name}_subtracted.tif\")\n",
    "            subtracted_raster.save(subtracted_raster_path)\n",
    "\n",
    "georef_folder = \"C:/Users/osher/Downloads/asaf_for_paper/RawCRS/\"\n",
    "filled_folder = \"C:/Users/osher/Downloads/asaf_for_paper/FilledRasters_2/\"\n",
    "output_folder = \"C:/Users/osher/Downloads/asaf_for_paper/SubtractedRasters_2/\"\n",
    "\n",
    "subtract_and_save(georef_folder, filled_folder, output_folder)\n",
    "\n",
    "print(\"Step 2: Subtracted rasters saved.\")"
   ]
  },
  {
   "cell_type": "code",
   "execution_count": null,
   "id": "e6c929a7-8d70-4376-8dc0-ae4145d4c17a",
   "metadata": {},
   "outputs": [],
   "source": [
    "import rasterio ##Closed depression\n",
    "from rasterio.merge import merge\n",
    "import os\n",
    "\n",
    "def combine_rasters(output_folder, combined_raster_path):\n",
    "    # List to store the file paths of the subtracted rasters\n",
    "    raster_files = [os.path.join(output_folder, f) for f in os.listdir(output_folder) if f.endswith('.tif')]\n",
    "    \n",
    "    # Open all rasters using rasterio\n",
    "    src_files_to_mosaic = []\n",
    "    for raster_file in raster_files:\n",
    "        src = rasterio.open(raster_file)\n",
    "        src_files_to_mosaic.append(src)\n",
    "    \n",
    "    # Combine rasters using the maximum value where they overlap\n",
    "    mosaic, out_trans = merge(src_files_to_mosaic, method='max')\n",
    "    \n",
    "    # Save the combined raster\n",
    "    out_meta = src_files_to_mosaic[0].meta.copy()\n",
    "    out_meta.update({\"driver\": \"GTiff\",\n",
    "                     \"height\": mosaic.shape[1],\n",
    "                     \"width\": mosaic.shape[2],\n",
    "                     \"transform\": out_trans})\n",
    "    \n",
    "    with rasterio.open(combined_raster_path, \"w\", **out_meta) as dest:\n",
    "        dest.write(mosaic)\n",
    "\n",
    "output_folder = \"C:/Users/osher/Downloads/asaf_for_paper/SubtractedRasters_2/\"\n",
    "combined_raster_path = \"C:/Users/osher/Downloads/asaf_for_paper/CombinedRasters/combined_subtracted_raster.tif\"\n",
    "\n",
    "combine_rasters(output_folder, combined_raster_path)\n",
    "\n",
    "print(\"Step 3: Combination of subtracted rasters completed.\")"
   ]
  },
  {
   "cell_type": "markdown",
   "id": "d66ddc06-8d38-4389-b442-773dd62b9210",
   "metadata": {},
   "source": [
    "<h2> After this stage we pachiffy closed depression combined raster with RGB in ArcGIS Pro using \"Export Training Data For Deep Learning (Image Analyst)\"</h2>"
   ]
  }
 ],
 "metadata": {
  "kernelspec": {
   "display_name": "Python 3 (ipykernel)",
   "language": "python",
   "name": "python3"
  },
  "language_info": {
   "codemirror_mode": {
    "name": "ipython",
    "version": 3
   },
   "file_extension": ".py",
   "mimetype": "text/x-python",
   "name": "python",
   "nbconvert_exporter": "python",
   "pygments_lexer": "ipython3",
   "version": "3.8.10"
  }
 },
 "nbformat": 4,
 "nbformat_minor": 5
}
